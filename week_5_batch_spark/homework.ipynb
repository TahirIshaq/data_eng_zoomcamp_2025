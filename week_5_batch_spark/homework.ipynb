{
 "cells": [
  {
   "cell_type": "code",
   "execution_count": 12,
   "id": "6c396457-0f05-4790-bbf9-be333271f021",
   "metadata": {},
   "outputs": [],
   "source": [
    "# Import libraries\n",
    "import pyspark\n",
    "from pyspark.sql import SparkSession\n",
    "from pyspark.sql import types"
   ]
  },
  {
   "cell_type": "code",
   "execution_count": 2,
   "id": "b434e249-573c-485f-a599-41d276e345c2",
   "metadata": {},
   "outputs": [],
   "source": [
    "# Create the spark cluster\n",
    "spark = SparkSession.builder \\\n",
    "    .master(\"local[*]\") \\\n",
    "    .appName('test') \\\n",
    "    .getOrCreate()"
   ]
  },
  {
   "cell_type": "code",
   "execution_count": 5,
   "id": "33ae0e84-877c-4bb2-a2a3-ca3ff0500e60",
   "metadata": {},
   "outputs": [
    {
     "name": "stdout",
     "output_type": "stream",
     "text": [
      "--2025-03-02 15:15:38--  https://d37ci6vzurychx.cloudfront.net/trip-data/yellow_tripdata_2024-10.parquet\n",
      "Resolving d37ci6vzurychx.cloudfront.net (d37ci6vzurychx.cloudfront.net)... 3.167.84.228, 3.167.84.127, 3.167.84.131, ...\n",
      "Connecting to d37ci6vzurychx.cloudfront.net (d37ci6vzurychx.cloudfront.net)|3.167.84.228|:443... connected.\n",
      "HTTP request sent, awaiting response... 200 OK\n",
      "Length: 64346071 (61M) [binary/octet-stream]\n",
      "Saving to: ‘yellow_tripdata_2024-10.parquet’\n",
      "\n",
      "yellow_tripdata_202 100%[===================>]  61.36M   332MB/s    in 0.2s    \n",
      "\n",
      "2025-03-02 15:15:38 (332 MB/s) - ‘yellow_tripdata_2024-10.parquet’ saved [64346071/64346071]\n",
      "\n",
      "--2025-03-02 15:15:38--  https://d37ci6vzurychx.cloudfront.net/misc/taxi_zone_lookup.csv\n",
      "Resolving d37ci6vzurychx.cloudfront.net (d37ci6vzurychx.cloudfront.net)... 3.167.84.86, 3.167.84.131, 3.167.84.127, ...\n",
      "Connecting to d37ci6vzurychx.cloudfront.net (d37ci6vzurychx.cloudfront.net)|3.167.84.86|:443... connected.\n",
      "HTTP request sent, awaiting response... 200 OK\n",
      "Length: 12331 (12K) [text/csv]\n",
      "Saving to: ‘taxi_zone_lookup.csv’\n",
      "\n",
      "taxi_zone_lookup.cs 100%[===================>]  12.04K  --.-KB/s    in 0s      \n",
      "\n",
      "2025-03-02 15:15:38 (108 MB/s) - ‘taxi_zone_lookup.csv’ saved [12331/12331]\n",
      "\n"
     ]
    }
   ],
   "source": [
    "# Download datasets\n",
    "!wget https://d37ci6vzurychx.cloudfront.net/trip-data/yellow_tripdata_2024-10.parquet\n",
    "!wget https://d37ci6vzurychx.cloudfront.net/misc/taxi_zone_lookup.csv"
   ]
  },
  {
   "cell_type": "code",
   "execution_count": 6,
   "id": "7e863095-3512-4985-beb8-1fa4f4b27ed8",
   "metadata": {},
   "outputs": [
    {
     "name": "stdout",
     "output_type": "stream",
     "text": [
      "download_data.sh      Untitled.ipynb\n",
      "taxi_zone_lookup.csv  yellow_tripdata_2024-10.parquet\n"
     ]
    }
   ],
   "source": [
    "!ls"
   ]
  },
  {
   "cell_type": "code",
   "execution_count": 8,
   "id": "40bc96ad-db09-43f9-9db2-9c956e4740d9",
   "metadata": {},
   "outputs": [],
   "source": [
    "# Load the data files\n",
    "df_yellow = spark.read.option(\"header\", \"true\").parquet(\"yellow_tripdata_2024-10.parquet\")\n",
    "df_zone = spark.read.option(\"header\", \"true\").csv(\"taxi_zone_lookup.csv\")"
   ]
  },
  {
   "cell_type": "code",
   "execution_count": 9,
   "id": "1bf482d5-1f26-446d-9ba1-e7930c96ee23",
   "metadata": {},
   "outputs": [
    {
     "name": "stdout",
     "output_type": "stream",
     "text": [
      "root\n",
      " |-- VendorID: integer (nullable = true)\n",
      " |-- tpep_pickup_datetime: timestamp_ntz (nullable = true)\n",
      " |-- tpep_dropoff_datetime: timestamp_ntz (nullable = true)\n",
      " |-- passenger_count: long (nullable = true)\n",
      " |-- trip_distance: double (nullable = true)\n",
      " |-- RatecodeID: long (nullable = true)\n",
      " |-- store_and_fwd_flag: string (nullable = true)\n",
      " |-- PULocationID: integer (nullable = true)\n",
      " |-- DOLocationID: integer (nullable = true)\n",
      " |-- payment_type: long (nullable = true)\n",
      " |-- fare_amount: double (nullable = true)\n",
      " |-- extra: double (nullable = true)\n",
      " |-- mta_tax: double (nullable = true)\n",
      " |-- tip_amount: double (nullable = true)\n",
      " |-- tolls_amount: double (nullable = true)\n",
      " |-- improvement_surcharge: double (nullable = true)\n",
      " |-- total_amount: double (nullable = true)\n",
      " |-- congestion_surcharge: double (nullable = true)\n",
      " |-- Airport_fee: double (nullable = true)\n",
      "\n"
     ]
    }
   ],
   "source": [
    "# Check the df schema\n",
    "df_yellow.printSchema()"
   ]
  },
  {
   "cell_type": "code",
   "execution_count": 10,
   "id": "9bd9f153-8249-49b2-940d-3c8c04315195",
   "metadata": {},
   "outputs": [
    {
     "name": "stdout",
     "output_type": "stream",
     "text": [
      "root\n",
      " |-- LocationID: string (nullable = true)\n",
      " |-- Borough: string (nullable = true)\n",
      " |-- Zone: string (nullable = true)\n",
      " |-- service_zone: string (nullable = true)\n",
      "\n"
     ]
    }
   ],
   "source": [
    "df_zone.printSchema()"
   ]
  },
  {
   "cell_type": "code",
   "execution_count": 31,
   "id": "b5134479-f0fc-48e9-9834-48c3503188a1",
   "metadata": {},
   "outputs": [],
   "source": [
    "# The schema looks alright for yellow taxi but LocationID in df_zone should be an integer instead of a string. We will pass the schema manually\n",
    "# The True is for nullable i.e. A null value is acceptable for this column\n",
    "yellow_schema = types.StructType([\n",
    "    types.StructField(\"VendorID\", types.IntegerType(), True),\n",
    "    types.StructField(\"tpep_pickup_datetime\", types.TimestampType(), True),\n",
    "    types.StructField(\"tpep_dropoff_datetime\", types.TimestampType(), True),\n",
    "    types.StructField(\"passenger_count\", types.LongType(), True),\n",
    "    types.StructField(\"trip_distance\", types.DoubleType(), True),\n",
    "    types.StructField(\"RatecodeID\", types.LongType(), True),\n",
    "    types.StructField(\"store_and_fwd_flag\", types.StringType(), True),\n",
    "    types.StructField(\"PULocationID\", types.IntegerType(), True),\n",
    "    types.StructField(\"DOLocationID\", types.IntegerType(), True),\n",
    "    types.StructField(\"payment_type\", types.LongType(), True),\n",
    "    types.StructField(\"fare_amount\", types.DoubleType(), True),\n",
    "    types.StructField(\"extra\", types.DoubleType(), True),\n",
    "    types.StructField(\"mta_tax\", types.DoubleType(), True),\n",
    "    types.StructField(\"tip_amount\", types.DoubleType(), True),\n",
    "    types.StructField(\"tolls_amount\", types.DoubleType(), True),\n",
    "    types.StructField(\"improvement_surcharge\", types.DoubleType(), True),\n",
    "    types.StructField(\"total_amount\", types.DoubleType(), True),\n",
    "    types.StructField(\"congestion_surcharge\", types.DoubleType(), True)\n",
    "])\n",
    "zone_schema = types.StructType([\n",
    "    types.StructField(\"LocationID\", types.IntegerType(), True),\n",
    "    types.StructField(\"Borough\", types.StringType(), True),\n",
    "    types.StructField(\"Zone\", types.StringType(), True),\n",
    "    types.StructField(\"service_zone\", types.StringType(), True)\n",
    "])"
   ]
  },
  {
   "cell_type": "code",
   "execution_count": 32,
   "id": "5641d982-117a-489e-8b73-1b44a0a140f4",
   "metadata": {},
   "outputs": [],
   "source": [
    "# Reloading data with the specified datatypes\n",
    "df_yellow = spark.read.option(\"header\", \"true\").schema(yellow_schema).parquet(\"yellow_tripdata_2024-10.parquet\")\n",
    "df_zone = spark.read.option(\"header\", \"true\").schema(zone_schema).csv(\"taxi_zone_lookup.csv\")"
   ]
  },
  {
   "cell_type": "code",
   "execution_count": 33,
   "id": "5cfa2d2b-d7d4-480c-a251-5f63a23845e4",
   "metadata": {},
   "outputs": [
    {
     "name": "stdout",
     "output_type": "stream",
     "text": [
      "root\n",
      " |-- VendorID: integer (nullable = true)\n",
      " |-- tpep_pickup_datetime: timestamp (nullable = true)\n",
      " |-- tpep_dropoff_datetime: timestamp (nullable = true)\n",
      " |-- passenger_count: long (nullable = true)\n",
      " |-- trip_distance: double (nullable = true)\n",
      " |-- RatecodeID: long (nullable = true)\n",
      " |-- store_and_fwd_flag: string (nullable = true)\n",
      " |-- PULocationID: integer (nullable = true)\n",
      " |-- DOLocationID: integer (nullable = true)\n",
      " |-- payment_type: long (nullable = true)\n",
      " |-- fare_amount: double (nullable = true)\n",
      " |-- extra: double (nullable = true)\n",
      " |-- mta_tax: double (nullable = true)\n",
      " |-- tip_amount: double (nullable = true)\n",
      " |-- tolls_amount: double (nullable = true)\n",
      " |-- improvement_surcharge: double (nullable = true)\n",
      " |-- total_amount: double (nullable = true)\n",
      " |-- congestion_surcharge: double (nullable = true)\n",
      "\n"
     ]
    }
   ],
   "source": [
    "# Check the df schemas\n",
    "df_yellow.printSchema()"
   ]
  },
  {
   "cell_type": "code",
   "execution_count": 34,
   "id": "96ae94b6-3c45-4720-bec4-26d2b4dba5bd",
   "metadata": {},
   "outputs": [
    {
     "name": "stdout",
     "output_type": "stream",
     "text": [
      "root\n",
      " |-- LocationID: integer (nullable = true)\n",
      " |-- Borough: string (nullable = true)\n",
      " |-- Zone: string (nullable = true)\n",
      " |-- service_zone: string (nullable = true)\n",
      "\n"
     ]
    }
   ],
   "source": [
    "df_zone.printSchema()"
   ]
  },
  {
   "cell_type": "code",
   "execution_count": 36,
   "id": "eaf9b49f-8231-49c7-adbd-f150edfcb070",
   "metadata": {},
   "outputs": [],
   "source": [
    "# Repartitioning yellow_taxi data and writing \n",
    "df_yellow.repartition(4).write.parquet(path=\"yellow_taxi\", mode=\"overwrite\")"
   ]
  },
  {
   "cell_type": "code",
   "execution_count": 38,
   "id": "6c271238-d740-4d41-b139-6d6dd3ded0f8",
   "metadata": {},
   "outputs": [
    {
     "name": "stdout",
     "output_type": "stream",
     "text": [
      "total 97M\n",
      "-rw-r--r-- 1 jovyan users 25M Mar  2 15:36 part-00000-189129b0-8b51-4efc-b6c8-c85d6dbcf9df-c000.snappy.parquet\n",
      "-rw-r--r-- 1 jovyan users 25M Mar  2 15:36 part-00001-189129b0-8b51-4efc-b6c8-c85d6dbcf9df-c000.snappy.parquet\n",
      "-rw-r--r-- 1 jovyan users 25M Mar  2 15:36 part-00002-189129b0-8b51-4efc-b6c8-c85d6dbcf9df-c000.snappy.parquet\n",
      "-rw-r--r-- 1 jovyan users 25M Mar  2 15:36 part-00003-189129b0-8b51-4efc-b6c8-c85d6dbcf9df-c000.snappy.parquet\n",
      "-rw-r--r-- 1 jovyan users   0 Mar  2 15:36 _SUCCESS\n"
     ]
    }
   ],
   "source": [
    "!ls -lh yellow_taxi"
   ]
  },
  {
   "cell_type": "markdown",
   "id": "759de154-4f4f-442f-84ec-8fc476b90717",
   "metadata": {},
   "source": [
    "### Question 1: Install Spark and PySpark"
   ]
  },
  {
   "cell_type": "code",
   "execution_count": 40,
   "id": "99148af8-adfc-44cc-a98c-8d2617f5e198",
   "metadata": {},
   "outputs": [
    {
     "data": {
      "text/plain": [
       "'3.5.0'"
      ]
     },
     "execution_count": 40,
     "metadata": {},
     "output_type": "execute_result"
    }
   ],
   "source": [
    "pyspark.__version__"
   ]
  },
  {
   "cell_type": "markdown",
   "id": "15f3ded9-64d9-42a8-96b9-5412fe8c3b1d",
   "metadata": {},
   "source": [
    "### Question 2: Yellow October 2024"
   ]
  },
  {
   "cell_type": "code",
   "execution_count": 41,
   "id": "6388575e-0eec-4760-a7c0-08f1cd91cdf4",
   "metadata": {},
   "outputs": [
    {
     "name": "stdout",
     "output_type": "stream",
     "text": [
      "total 97M\n",
      "-rw-r--r-- 1 jovyan users 25M Mar  2 15:40 part-00000-f1fcc67d-d6fd-4321-909a-0cfaab778cf0-c000.snappy.parquet\n",
      "-rw-r--r-- 1 jovyan users 25M Mar  2 15:40 part-00001-f1fcc67d-d6fd-4321-909a-0cfaab778cf0-c000.snappy.parquet\n",
      "-rw-r--r-- 1 jovyan users 25M Mar  2 15:40 part-00002-f1fcc67d-d6fd-4321-909a-0cfaab778cf0-c000.snappy.parquet\n",
      "-rw-r--r-- 1 jovyan users 25M Mar  2 15:40 part-00003-f1fcc67d-d6fd-4321-909a-0cfaab778cf0-c000.snappy.parquet\n",
      "-rw-r--r-- 1 jovyan users   0 Mar  2 15:40 _SUCCESS\n"
     ]
    }
   ],
   "source": [
    "df_yellow.repartition(4).write.parquet(path=\"yellow_taxi\", mode=\"overwrite\")\n",
    "!ls -lh yellow_taxi"
   ]
  },
  {
   "cell_type": "markdown",
   "id": "739fc4d5-ca4c-41a7-b0d5-18d1a44b3fef",
   "metadata": {},
   "source": [
    "### Question 3: Count records"
   ]
  },
  {
   "cell_type": "code",
   "execution_count": 45,
   "id": "7173f063-f1cf-433c-bfff-22b372fb40ae",
   "metadata": {},
   "outputs": [],
   "source": [
    "# Creates or replaces a local temporary view with this DataFrame.\n",
    "df_yellow.createOrReplaceTempView('trips_data')\n",
    "df_zone.createOrReplaceTempView('trips_zone')"
   ]
  },
  {
   "cell_type": "code",
   "execution_count": 46,
   "id": "4e360799-eda3-4f45-a2ed-eb1b03388298",
   "metadata": {},
   "outputs": [
    {
     "name": "stdout",
     "output_type": "stream",
     "text": [
      "+-----------+\n",
      "|total_trips|\n",
      "+-----------+\n",
      "|     128893|\n",
      "+-----------+\n",
      "\n"
     ]
    }
   ],
   "source": [
    "# The dateformat is: **YYY-MM--DD**\n",
    "query = \"\"\"SELECT COUNT(*) AS total_trips FROM trips_data WHERE DATE(tpep_pickup_datetime)='2024-10-15';\"\"\"\n",
    "df_result = spark.sql(query)\n",
    "df_result.show()"
   ]
  },
  {
   "cell_type": "markdown",
   "id": "df854a33-103b-4894-bc33-54df96a724a7",
   "metadata": {},
   "source": [
    "### Question 4: Longest trip"
   ]
  },
  {
   "cell_type": "code",
   "execution_count": 47,
   "id": "5f932454-e789-47c4-af2e-0487cc10af30",
   "metadata": {},
   "outputs": [
    {
     "name": "stdout",
     "output_type": "stream",
     "text": [
      "+------------------+\n",
      "|diff              |\n",
      "+------------------+\n",
      "|162.61777777777777|\n",
      "|143.325           |\n",
      "|137.76055555555556|\n",
      "|114.83472222222223|\n",
      "|89.89833333333333 |\n",
      "+------------------+\n",
      "\n"
     ]
    }
   ],
   "source": [
    "query = \"\"\"SELECT (UNIX_TIMESTAMP(tpep_dropoff_datetime) - UNIX_TIMESTAMP(tpep_pickup_datetime)) / 3600 AS diff FROM trips_data ORDER BY diff DESC LIMIT 5;\"\"\"\n",
    "df_result = spark.sql(query)\n",
    "df_result.show(truncate=False)"
   ]
  },
  {
   "cell_type": "markdown",
   "id": "edc454e4-1edd-4d25-a520-8ce5cb34cc23",
   "metadata": {},
   "source": [
    "### Question 5: User Interface"
   ]
  },
  {
   "cell_type": "markdown",
   "id": "87356a18-170b-40e1-b408-df4d9e3bc859",
   "metadata": {},
   "source": [
    "Open `localhost:4040` or any of the forwarded port on the host system."
   ]
  },
  {
   "cell_type": "markdown",
   "id": "5756318b-6226-496f-ac87-66f986c9ff9c",
   "metadata": {},
   "source": [
    "### Question 6: Least frequent pickup location zone"
   ]
  },
  {
   "cell_type": "code",
   "execution_count": 49,
   "id": "ac4a496d-4e60-4aff-834a-4bdc31c8da91",
   "metadata": {},
   "outputs": [
    {
     "name": "stdout",
     "output_type": "stream",
     "text": [
      "+---------------------------------------------+----------+\n",
      "|Zone                                         |LocationID|\n",
      "+---------------------------------------------+----------+\n",
      "|Governor's Island/Ellis Island/Liberty Island|105       |\n",
      "+---------------------------------------------+----------+\n",
      "\n"
     ]
    }
   ],
   "source": [
    "query = \"\"\"\n",
    "WITH lest_freq_pu_id AS\n",
    "(\n",
    "    SELECT PULocationID as pu_id, COUNT(*) AS total_count\n",
    "    FROM trips_data\n",
    "    GROUP BY pu_id\n",
    "    ORDER BY total_count ASC\n",
    "    LIMIT 1\n",
    ")\n",
    "SELECT Zone, LocationID FROM trips_zone WHERE LocationID = (SELECT pu_id FROM lest_freq_pu_id);\n",
    "\"\"\"\n",
    "df_result = spark.sql(query)\n",
    "df_result.show(truncate=False)"
   ]
  },
  {
   "cell_type": "code",
   "execution_count": null,
   "id": "9451aa7c-5781-4396-8dd0-8bdf3cfa69f0",
   "metadata": {},
   "outputs": [],
   "source": []
  }
 ],
 "metadata": {
  "kernelspec": {
   "display_name": "Python 3 (ipykernel)",
   "language": "python",
   "name": "python3"
  },
  "language_info": {
   "codemirror_mode": {
    "name": "ipython",
    "version": 3
   },
   "file_extension": ".py",
   "mimetype": "text/x-python",
   "name": "python",
   "nbconvert_exporter": "python",
   "pygments_lexer": "ipython3",
   "version": "3.11.6"
  }
 },
 "nbformat": 4,
 "nbformat_minor": 5
}
